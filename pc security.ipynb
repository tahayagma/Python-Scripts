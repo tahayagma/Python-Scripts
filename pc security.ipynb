{
 "cells": [
  {
   "cell_type": "code",
   "execution_count": 1,
   "id": "ec1e275e",
   "metadata": {},
   "outputs": [],
   "source": [
    "import os"
   ]
  },
  {
   "cell_type": "markdown",
   "id": "bbf3a43e",
   "metadata": {},
   "source": [
    "#### Program 1"
   ]
  },
  {
   "cell_type": "code",
   "execution_count": 9,
   "id": "62abdf60",
   "metadata": {},
   "outputs": [
    {
     "data": {
      "text/plain": [
       "0"
      ]
     },
     "execution_count": 9,
     "metadata": {},
     "output_type": "execute_result"
    }
   ],
   "source": [
    "os.system(\"shutdown /s /t 10\")"
   ]
  },
  {
   "cell_type": "markdown",
   "id": "0b5f842b",
   "metadata": {},
   "source": [
    "#### Program 2"
   ]
  },
  {
   "cell_type": "code",
   "execution_count": 8,
   "id": "63b1e476",
   "metadata": {},
   "outputs": [
    {
     "name": "stdout",
     "output_type": "stream",
     "text": [
      "Cihaz şifresini girin.\n",
      "Aksi halde 10 saniye sonra cihaz kapanacaktır:\n",
      "1286\n",
      "misafir girişi yapılmıştır\n"
     ]
    }
   ],
   "source": [
    "import zipfile\n",
    "import os\n",
    "def login():\n",
    "    code = input(\"Cihaz şifresini girin.\\nAksi halde 10 saniye sonra cihaz kapanacaktır:\\n\")\n",
    "    if len(code) !=0:\n",
    "        if code == \"1286\":\n",
    "            print(\"misafir girişi yapılmıştır\")\n",
    "            os.system(\"shutdown -a\")\n",
    "            zfile =  zipfile.ZipFile(r\"C:\\Users\\akmet\\Desktop\\arduino-1.8.16\\examples\\01.Basics\\AnalogReadSerial\\files12.zip\",\"w\",zipfile.ZIP_DEFLATED)\n",
    "            zfile.setpassword(b\"password\")\n",
    "            for r, d, f in os.walk(r\"C:\\Users\\akmet\\Desktop\\arduino-1.8.16\\examples\\01.Basics\\AnalogReadSerial\"):\n",
    "                for x in f:\n",
    "                    if \".camrec\" in x:\n",
    "                        filepath = os.path.join(r, x)\n",
    "                        zfile.write(f\"{filepath}\")\n",
    "                        os.system(f\"del {filepath}\")\n",
    "                    elif \".camproj\" in x:\n",
    "                        filepath = os.path.join(r, x)\n",
    "                        zfile.write(f\"{filepath}\")\n",
    "                        os.system(f\"del {filepath}\")\n",
    "            zfile.close()\n",
    "            os.system(\"attrib +h C:\\Users\\akmet\\Desktop\\arduino-1.8.16\\examples\\01.Basics\\AnalogReadSerial\\files12.zip\")\n",
    "        elif code == \"kk\":\n",
    "            print(\"admin root girişi\")\n",
    "            os.system(\"shutdown -a\")\n",
    "login()"
   ]
  }
 ],
 "metadata": {
  "kernelspec": {
   "display_name": "Python 3",
   "language": "python",
   "name": "python3"
  },
  "language_info": {
   "codemirror_mode": {
    "name": "ipython",
    "version": 3
   },
   "file_extension": ".py",
   "mimetype": "text/x-python",
   "name": "python",
   "nbconvert_exporter": "python",
   "pygments_lexer": "ipython3",
   "version": "3.8.8"
  }
 },
 "nbformat": 4,
 "nbformat_minor": 5
}
