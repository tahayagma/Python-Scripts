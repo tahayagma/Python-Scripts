{
 "cells": [
  {
   "cell_type": "code",
   "execution_count": 1,
   "id": "d006eb45",
   "metadata": {},
   "outputs": [],
   "source": [
    "import hashlib,datetime,json"
   ]
  },
  {
   "cell_type": "code",
   "execution_count": 264,
   "id": "f6d256c4",
   "metadata": {},
   "outputs": [],
   "source": [
    "class CoinBlok:\n",
    "    \n",
    "    # burada constructor tanımlandı. Yapıcılar\n",
    "    # bu sınıftan türetilen her nesnede otomatik olarak burası çalışır.\n",
    "    def __init__(self,önceki_blok_hash,işlem_listesi,zaman_damgasi):\n",
    "        \n",
    "        self.önceki_blok_hash = önceki_blok_hash\n",
    "        self.işlem_listesi = işlem_listesi\n",
    "        self.zaman_damgasi = zaman_damgasi\n",
    "        \n",
    "        self.blok_veri = f\"{''.join(işlem_listesi)}- {önceki_blok_hash}-{zaman_damgasi}\"\n",
    "        # önceki bloğun hash değeri geçerli bloğun işlemi ve zaman damgasi bir bütün haline getirildi.\n",
    "        self.blok_hash_degeri = hashlib.sha256(self.blok_veri.encode()).hexdigest()\n",
    "        # burada bu bloğa ait bir hast degeri oluşturulur.\n",
    "\n",
    "\n",
    "class BlokZincir:\n",
    "    \n",
    "    def __init__(self):\n",
    "        self.zincir = [] # tüm blokların kaydedildiği bir liste. Liste metodları ile erişim sağlanır\n",
    "        self.genesis_blok_olusturucu()\n",
    "        \n",
    "    def genesis_blok_olusturucu(self): # ilk blok oluşturucu\n",
    "        self.zaman_damgasi = datetime.datetime.now()\n",
    "        self.zincir.append(CoinBlok(\"0\",[\"Genesis Blok\"],self.zaman_damgasi))\n",
    "        # ilk blok için hash değeri 0 ve işlemelerini de \"Genesis Blok\" adında bir dizge gönderdik ki ilk blok oluşsun\n",
    "    \n",
    "    def islemden_blok_olustur(self,işlem_listesi):\n",
    "        önceki_blok_hash = self.son_blok.blok_hash_degeri # önceki bloğun hash degeri alındı.\n",
    "        self.zincir.append(CoinBlok(önceki_blok_hash,işlem_listesi,datetime.datetime.now()))\n",
    "        \n",
    "    def zincir_göster(self):\n",
    "        for i in range(len(self.zincir)):\n",
    "            print(f\"___________________Blok-{i+1}___________________\")\n",
    "            print(f\"Blok-{i+1} Veri: {self.zincir[i].blok_veri}\")\n",
    "            print(f\"Blok-{i+1} işlem: {self.zincir[i].işlem_listesi}\")\n",
    "            print(f\"Blok-{i+1} Zaman damgasi: {self.zincir[i].zaman_damgasi}\")\n",
    "            print(f\"Blok-{i+1} Hash: {self.zincir[i].blok_hash_degeri}\")\n",
    "            print(\"__________________________________________________\\n\")\n",
    "    def blok_doğrulama(self):\n",
    "        önceki_blok = self.zincir[0]\n",
    "        blok_index = 1\n",
    "        \n",
    "        while blok_index<len(self.zincir):\n",
    "            blok = self.zincir[blok_index]\n",
    "            if blok.önceki_blok_hash == önceki_blok.blok_hash_degeri:\n",
    "                print(f\"{blok_index+1}.blok doğrulandı.\\n\")\n",
    "                önceki_blok = self.zincir[blok_index]\n",
    "                blok_index +=1\n",
    "            else:\n",
    "                print(f\"{blok_index}.blok doğrulanamadı.\\n\")\n",
    "                break\n",
    "    @property\n",
    "    def son_blok(self):\n",
    "        return self.zincir[-1] # zincir içindeki son blok döndürülür."
   ]
  },
  {
   "cell_type": "code",
   "execution_count": 265,
   "id": "6b5713d7",
   "metadata": {},
   "outputs": [
    {
     "name": "stdout",
     "output_type": "stream",
     "text": [
      "___________________Blok-1___________________\n",
      "Blok-1 Veri: Genesis Blok- 0-2021-12-12 01:12:54.998422\n",
      "Blok-1 işlem: ['Genesis Blok']\n",
      "Blok-1 Zaman damgasi: 2021-12-12 01:12:54.998422\n",
      "Blok-1 Hash: a2971de717271d0cb78a200bd8dfb75405506a7f2e20b8cae3380d008a428b96\n",
      "__________________________________________________\n",
      "\n",
      "___________________Blok-2___________________\n",
      "Blok-2 Veri: Hasan Hüseyin'e  3.1 bitcoin gönderdi- a2971de717271d0cb78a200bd8dfb75405506a7f2e20b8cae3380d008a428b96-2021-12-12 01:12:54.998422\n",
      "Blok-2 işlem: Hasan Hüseyin'e  3.1 bitcoin gönderdi\n",
      "Blok-2 Zaman damgasi: 2021-12-12 01:12:54.998422\n",
      "Blok-2 Hash: 534608491ea583be626cad61ac49f854de9a5d0e6ff1124195319ecf687b4cee\n",
      "__________________________________________________\n",
      "\n",
      "___________________Blok-3___________________\n",
      "Blok-3 Veri: Hüseyin Zehra'ya 4 bitcoin gönderdi- 534608491ea583be626cad61ac49f854de9a5d0e6ff1124195319ecf687b4cee-2021-12-12 01:12:54.998422\n",
      "Blok-3 işlem: Hüseyin Zehra'ya 4 bitcoin gönderdi\n",
      "Blok-3 Zaman damgasi: 2021-12-12 01:12:54.998422\n",
      "Blok-3 Hash: bc225c212213659e668fdc0d275d199885b1e6155bb047f4fb1a7d7e803f9551\n",
      "__________________________________________________\n",
      "\n",
      "___________________Blok-4___________________\n",
      "Blok-4 Veri: Hüseyin Zehra'ya 4 bitcoin gönderdiZehra Murat'a 2.8 bitcoin gönderdi- bc225c212213659e668fdc0d275d199885b1e6155bb047f4fb1a7d7e803f9551-2021-12-12 01:12:54.999386\n",
      "Blok-4 işlem: [\"Hüseyin Zehra'ya 4 bitcoin gönderdi\", \"Zehra Murat'a 2.8 bitcoin gönderdi\"]\n",
      "Blok-4 Zaman damgasi: 2021-12-12 01:12:54.999386\n",
      "Blok-4 Hash: c777f4b0e4ddf1c7d48ea5a285f518ae0cabd8db322fa5fc39d2abfd13ef033f\n",
      "__________________________________________________\n",
      "\n",
      "2.blok doğrulandı.\n",
      "\n",
      "3.blok doğrulandı.\n",
      "\n",
      "4.blok doğrulandı.\n",
      "\n"
     ]
    }
   ],
   "source": [
    "t1 = \"Hasan Hüseyin'e  3.1 bitcoin gönderdi\"\n",
    "t2 = \"Hüseyin Zehra'ya 4 bitcoin gönderdi\"\n",
    "t3 = \"Zehra Murat'a 2.8 bitcoin gönderdi\"\n",
    "blok_zincirim = BlokZincir() # blok zincir sınıfından bir nesne türetilir constructor ile ilk blok oluşur.\n",
    "blok_zincirim.islemden_blok_olustur(t1) # 2.blok oluşur\n",
    "blok_zincirim.islemden_blok_olustur(t2) # 3.blok oluşur\n",
    "blok_zincirim.islemden_blok_olustur([t2,t3])\n",
    "blok_zincirim.zincir_göster() # zincirdeki tüm blokları gösterir\n",
    "blok_zincirim.blok_doğrulama() # zincirdeki tüm blokları doğrular"
   ]
  }
 ],
 "metadata": {
  "kernelspec": {
   "display_name": "Python 3",
   "language": "python",
   "name": "python3"
  },
  "language_info": {
   "codemirror_mode": {
    "name": "ipython",
    "version": 3
   },
   "file_extension": ".py",
   "mimetype": "text/x-python",
   "name": "python",
   "nbconvert_exporter": "python",
   "pygments_lexer": "ipython3",
   "version": "3.8.8"
  }
 },
 "nbformat": 4,
 "nbformat_minor": 5
}
